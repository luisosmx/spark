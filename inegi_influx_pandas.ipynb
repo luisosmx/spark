{
  "nbformat": 4,
  "nbformat_minor": 0,
  "metadata": {
    "colab": {
      "provenance": [],
      "authorship_tag": "ABX9TyOWObD/lemNawvjkZtF4km5",
      "include_colab_link": true
    },
    "kernelspec": {
      "name": "python3",
      "display_name": "Python 3"
    },
    "language_info": {
      "name": "python"
    }
  },
  "cells": [
    {
      "cell_type": "markdown",
      "metadata": {
        "id": "view-in-github",
        "colab_type": "text"
      },
      "source": [
        "<a href=\"https://colab.research.google.com/github/luisosmx/spark/blob/main/inegi_influx_pandas.ipynb\" target=\"_parent\"><img src=\"https://colab.research.google.com/assets/colab-badge.svg\" alt=\"Open In Colab\"/></a>"
      ]
    },
    {
      "cell_type": "code",
      "execution_count": 1,
      "metadata": {
        "id": "MpGDjmcfU5Lo"
      },
      "outputs": [],
      "source": [
        "import pandas as pd\n"
      ]
    },
    {
      "cell_type": "code",
      "source": [
        "url = 'https://datos.cdmx.gob.mx/dataset/f2046fd5-51b5-4876-b008-bd65d95f9a02/resource/0e8ffe58-28bb-4dde-afcd-e5f5b4de4ccb/download/afluenciastc_simple_01_2023.csv'\n",
        "df = pd.read_csv(url, encoding='ISO-8859-1')\n"
      ],
      "metadata": {
        "id": "ZZfHAOnDvoAT"
      },
      "execution_count": 3,
      "outputs": []
    },
    {
      "cell_type": "code",
      "source": [
        "print(df.head(10))\n"
      ],
      "metadata": {
        "colab": {
          "base_uri": "https://localhost:8080/"
        },
        "id": "5FKeRX6jwO7t",
        "outputId": "25f9732f-77da-4ba3-f938-7178ca8e1d00"
      },
      "execution_count": 5,
      "outputs": [
        {
          "output_type": "stream",
          "name": "stdout",
          "text": [
            "        fecha  anio    mes    linea             estacion  afluencia\n",
            "0  2010-01-01  2010  Enero  Linea 1             Zaragoza      20227\n",
            "1  2010-01-01  2010  Enero  Linea 1  Isabel la CatÃ³lica       6487\n",
            "2  2010-01-01  2010  Enero  Linea 1            Moctezuma      10304\n",
            "3  2010-01-01  2010  Enero  Linea 1         Pino SuÃ¡rez       8679\n",
            "4  2010-01-01  2010  Enero  Linea 1       GÃ³mez FarÃ­as      19499\n",
            "5  2010-01-01  2010  Enero  Linea 6  Deptvo. 18 de Marzo        621\n",
            "6  2010-01-01  2010  Enero  Linea 6    La Villa-Basilica      24792\n",
            "7  2010-01-01  2010  Enero  Linea 9           PantitlÃ¡n      27000\n",
            "8  2010-01-01  2010  Enero  Linea 8               Aculco       3652\n",
            "9  2010-01-01  2010  Enero  Linea 9           VelÃ³dromo       3239\n"
          ]
        }
      ]
    },
    {
      "cell_type": "code",
      "source": [
        "df = df.rename(columns={'fecha': 'date', 'anio': 'year', 'mes': 'month', 'linea': 'line', 'estacion': 'station', 'afluencia': 'influx'})\n"
      ],
      "metadata": {
        "id": "6crFgoI2wR4k"
      },
      "execution_count": 6,
      "outputs": []
    },
    {
      "cell_type": "code",
      "source": [
        "print(df.head(10))"
      ],
      "metadata": {
        "colab": {
          "base_uri": "https://localhost:8080/"
        },
        "id": "jG-G3qrCxR2v",
        "outputId": "de494d1a-3052-4bfd-d2cf-9d16c71c4db9"
      },
      "execution_count": 7,
      "outputs": [
        {
          "output_type": "stream",
          "name": "stdout",
          "text": [
            "         date  year  month     line              station  influx\n",
            "0  2010-01-01  2010  Enero  Linea 1             Zaragoza   20227\n",
            "1  2010-01-01  2010  Enero  Linea 1  Isabel la CatÃ³lica    6487\n",
            "2  2010-01-01  2010  Enero  Linea 1            Moctezuma   10304\n",
            "3  2010-01-01  2010  Enero  Linea 1         Pino SuÃ¡rez    8679\n",
            "4  2010-01-01  2010  Enero  Linea 1       GÃ³mez FarÃ­as   19499\n",
            "5  2010-01-01  2010  Enero  Linea 6  Deptvo. 18 de Marzo     621\n",
            "6  2010-01-01  2010  Enero  Linea 6    La Villa-Basilica   24792\n",
            "7  2010-01-01  2010  Enero  Linea 9           PantitlÃ¡n   27000\n",
            "8  2010-01-01  2010  Enero  Linea 8               Aculco    3652\n",
            "9  2010-01-01  2010  Enero  Linea 9           VelÃ³dromo    3239\n"
          ]
        }
      ]
    },
    {
      "cell_type": "code",
      "source": [
        "line_dict = {'Linea 1': '1', 'Linea 2': '2', 'Linea 3': '3', 'Linea 4': '4', 'Linea 5': '5', 'Linea 6': '6', 'Linea 7': '7', 'Linea 8': '8', 'Linea 9': '9', 'Linea A': 'A', 'Linea B': 'B', 'Linea 12': '12'}\n",
        "df['line'] = df['line'].replace(line_dict)\n"
      ],
      "metadata": {
        "id": "b_d4nmG6xZHD"
      },
      "execution_count": 8,
      "outputs": []
    },
    {
      "cell_type": "code",
      "source": [
        "print(df.head(10))"
      ],
      "metadata": {
        "colab": {
          "base_uri": "https://localhost:8080/"
        },
        "id": "sBmMyIT8_ahh",
        "outputId": "f5f92dc5-77f5-4211-b887-5678ea1fa051"
      },
      "execution_count": 9,
      "outputs": [
        {
          "output_type": "stream",
          "name": "stdout",
          "text": [
            "         date  year  month line              station  influx\n",
            "0  2010-01-01  2010  Enero    1             Zaragoza   20227\n",
            "1  2010-01-01  2010  Enero    1  Isabel la CatÃ³lica    6487\n",
            "2  2010-01-01  2010  Enero    1            Moctezuma   10304\n",
            "3  2010-01-01  2010  Enero    1         Pino SuÃ¡rez    8679\n",
            "4  2010-01-01  2010  Enero    1       GÃ³mez FarÃ­as   19499\n",
            "5  2010-01-01  2010  Enero    6  Deptvo. 18 de Marzo     621\n",
            "6  2010-01-01  2010  Enero    6    La Villa-Basilica   24792\n",
            "7  2010-01-01  2010  Enero    9           PantitlÃ¡n   27000\n",
            "8  2010-01-01  2010  Enero    8               Aculco    3652\n",
            "9  2010-01-01  2010  Enero    9           VelÃ³dromo    3239\n"
          ]
        }
      ]
    }
  ]
}