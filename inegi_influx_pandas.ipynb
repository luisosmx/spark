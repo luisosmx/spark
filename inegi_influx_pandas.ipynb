{
  "nbformat": 4,
  "nbformat_minor": 0,
  "metadata": {
    "colab": {
      "provenance": [],
      "authorship_tag": "ABX9TyNxifvKKfeNNkue39onCqq0",
      "include_colab_link": true
    },
    "kernelspec": {
      "name": "python3",
      "display_name": "Python 3"
    },
    "language_info": {
      "name": "python"
    }
  },
  "cells": [
    {
      "cell_type": "markdown",
      "metadata": {
        "id": "view-in-github",
        "colab_type": "text"
      },
      "source": [
        "<a href=\"https://colab.research.google.com/github/luisosmx/spark/blob/main/inegi_influx_pandas.ipynb\" target=\"_parent\"><img src=\"https://colab.research.google.com/assets/colab-badge.svg\" alt=\"Open In Colab\"/></a>"
      ]
    },
    {
      "cell_type": "code",
      "execution_count": 19,
      "metadata": {
        "id": "MpGDjmcfU5Lo"
      },
      "outputs": [],
      "source": [
        "import pandas as pd\n"
      ]
    },
    {
      "cell_type": "code",
      "source": [
        "url = 'https://datos.cdmx.gob.mx/dataset/f2046fd5-51b5-4876-b008-bd65d95f9a02/resource/0e8ffe58-28bb-4dde-afcd-e5f5b4de4ccb/download/afluenciastc_simple_01_2023.csv'\n",
        "df = pd.read_csv(url, encoding='ISO-8859-1')\n"
      ],
      "metadata": {
        "id": "ZZfHAOnDvoAT"
      },
      "execution_count": 20,
      "outputs": []
    },
    {
      "cell_type": "code",
      "source": [
        "print(df.head(10))\n"
      ],
      "metadata": {
        "colab": {
          "base_uri": "https://localhost:8080/"
        },
        "id": "5FKeRX6jwO7t",
        "outputId": "a7a17fbf-022e-4467-f30b-e57c5f739017"
      },
      "execution_count": 21,
      "outputs": [
        {
          "output_type": "stream",
          "name": "stdout",
          "text": [
            "        fecha  anio    mes    linea             estacion  afluencia\n",
            "0  2010-01-01  2010  Enero  Linea 1             Zaragoza      20227\n",
            "1  2010-01-01  2010  Enero  Linea 1  Isabel la CatÃ³lica       6487\n",
            "2  2010-01-01  2010  Enero  Linea 1            Moctezuma      10304\n",
            "3  2010-01-01  2010  Enero  Linea 1         Pino SuÃ¡rez       8679\n",
            "4  2010-01-01  2010  Enero  Linea 1       GÃ³mez FarÃ­as      19499\n",
            "5  2010-01-01  2010  Enero  Linea 6  Deptvo. 18 de Marzo        621\n",
            "6  2010-01-01  2010  Enero  Linea 6    La Villa-Basilica      24792\n",
            "7  2010-01-01  2010  Enero  Linea 9           PantitlÃ¡n      27000\n",
            "8  2010-01-01  2010  Enero  Linea 8               Aculco       3652\n",
            "9  2010-01-01  2010  Enero  Linea 9           VelÃ³dromo       3239\n"
          ]
        }
      ]
    },
    {
      "cell_type": "code",
      "source": [
        "df = df.rename(columns={'fecha': 'date', 'anio': 'year', 'mes': 'month', 'linea': 'line', 'estacion': 'station', 'afluencia': 'influx'})\n"
      ],
      "metadata": {
        "id": "6crFgoI2wR4k"
      },
      "execution_count": 22,
      "outputs": []
    },
    {
      "cell_type": "code",
      "source": [
        "print(df.head(10))"
      ],
      "metadata": {
        "colab": {
          "base_uri": "https://localhost:8080/"
        },
        "id": "jG-G3qrCxR2v",
        "outputId": "09307ab2-e5ed-4134-baed-e7b4fc829c8b"
      },
      "execution_count": 23,
      "outputs": [
        {
          "output_type": "stream",
          "name": "stdout",
          "text": [
            "         date  year  month     line              station  influx\n",
            "0  2010-01-01  2010  Enero  Linea 1             Zaragoza   20227\n",
            "1  2010-01-01  2010  Enero  Linea 1  Isabel la CatÃ³lica    6487\n",
            "2  2010-01-01  2010  Enero  Linea 1            Moctezuma   10304\n",
            "3  2010-01-01  2010  Enero  Linea 1         Pino SuÃ¡rez    8679\n",
            "4  2010-01-01  2010  Enero  Linea 1       GÃ³mez FarÃ­as   19499\n",
            "5  2010-01-01  2010  Enero  Linea 6  Deptvo. 18 de Marzo     621\n",
            "6  2010-01-01  2010  Enero  Linea 6    La Villa-Basilica   24792\n",
            "7  2010-01-01  2010  Enero  Linea 9           PantitlÃ¡n   27000\n",
            "8  2010-01-01  2010  Enero  Linea 8               Aculco    3652\n",
            "9  2010-01-01  2010  Enero  Linea 9           VelÃ³dromo    3239\n"
          ]
        }
      ]
    },
    {
      "cell_type": "code",
      "source": [
        "line_dict = {'Linea 1': '1', 'Linea 2': '2', 'Linea 3': '3', 'Linea 4': '4', 'Linea 5': '5', 'Linea 6': '6', 'Linea 7': '7', 'Linea 8': '8', 'Linea 9': '9', 'Linea A': 'A', 'Linea B': 'B', 'Linea 12': '12'}\n",
        "df['line'] = df['line'].replace(line_dict)\n"
      ],
      "metadata": {
        "id": "b_d4nmG6xZHD"
      },
      "execution_count": 24,
      "outputs": []
    },
    {
      "cell_type": "code",
      "source": [
        "print(df.head(10))"
      ],
      "metadata": {
        "colab": {
          "base_uri": "https://localhost:8080/"
        },
        "id": "sBmMyIT8_ahh",
        "outputId": "7640376b-ad7e-42e5-bd3e-e86085351bb3"
      },
      "execution_count": 26,
      "outputs": [
        {
          "output_type": "stream",
          "name": "stdout",
          "text": [
            "         date  year  month line              station  influx\n",
            "0  2010-01-01  2010  Enero    1             Zaragoza   20227\n",
            "1  2010-01-01  2010  Enero    1  Isabel la CatÃ³lica    6487\n",
            "2  2010-01-01  2010  Enero    1            Moctezuma   10304\n",
            "3  2010-01-01  2010  Enero    1         Pino SuÃ¡rez    8679\n",
            "4  2010-01-01  2010  Enero    1       GÃ³mez FarÃ­as   19499\n",
            "5  2010-01-01  2010  Enero    6  Deptvo. 18 de Marzo     621\n",
            "6  2010-01-01  2010  Enero    6    La Villa-Basilica   24792\n",
            "7  2010-01-01  2010  Enero    9           PantitlÃ¡n   27000\n",
            "8  2010-01-01  2010  Enero    8               Aculco    3652\n",
            "9  2010-01-01  2010  Enero    9           VelÃ³dromo    3239\n"
          ]
        }
      ]
    },
    {
      "cell_type": "code",
      "source": [
        "!pip install unidecode\n",
        "from unidecode import unidecode"
      ],
      "metadata": {
        "colab": {
          "base_uri": "https://localhost:8080/"
        },
        "id": "2N1S1573AW3v",
        "outputId": "01ecf296-8c33-4e44-d9e4-64a3fee88c5e"
      },
      "execution_count": 27,
      "outputs": [
        {
          "output_type": "stream",
          "name": "stdout",
          "text": [
            "Looking in indexes: https://pypi.org/simple, https://us-python.pkg.dev/colab-wheels/public/simple/\n",
            "Requirement already satisfied: unidecode in /usr/local/lib/python3.9/dist-packages (1.3.6)\n"
          ]
        }
      ]
    },
    {
      "cell_type": "code",
      "source": [
        "df['station'] = df['station'].apply(lambda x: unidecode(x))"
      ],
      "metadata": {
        "id": "CWKFEiV0Auys"
      },
      "execution_count": 28,
      "outputs": []
    },
    {
      "cell_type": "code",
      "source": [
        "print(df.head(30))"
      ],
      "metadata": {
        "colab": {
          "base_uri": "https://localhost:8080/"
        },
        "id": "BLCCvylcAy20",
        "outputId": "d6cc0978-442a-4b55-ffa4-35b0ffe5ffae"
      },
      "execution_count": 29,
      "outputs": [
        {
          "output_type": "stream",
          "name": "stdout",
          "text": [
            "          date  year  month line              station  influx\n",
            "0   2010-01-01  2010  Enero    1             Zaragoza   20227\n",
            "1   2010-01-01  2010  Enero    1  Isabel la CatA3lica    6487\n",
            "2   2010-01-01  2010  Enero    1            Moctezuma   10304\n",
            "3   2010-01-01  2010  Enero    1         Pino SuA!rez    8679\n",
            "4   2010-01-01  2010  Enero    1        GA3mez FarAas   19499\n",
            "5   2010-01-01  2010  Enero    6  Deptvo. 18 de Marzo     621\n",
            "6   2010-01-01  2010  Enero    6    La Villa-Basilica   24792\n",
            "7   2010-01-01  2010  Enero    9           PantitlA!n   27000\n",
            "8   2010-01-01  2010  Enero    8               Aculco    3652\n",
            "9   2010-01-01  2010  Enero    9           VelA3dromo    3239\n",
            "10  2010-01-01  2010  Enero    5  Autobuses del Norte   16824\n",
            "11  2010-01-01  2010  Enero    5            Misterios    3513\n",
            "12  2010-01-01  2010  Enero    7       Constituyentes    1417\n",
            "13  2010-01-01  2010  Enero    7            RefinerAa    2325\n",
            "14  2010-01-01  2010  Enero    3              EtiopAa    7078\n",
            "15  2010-01-01  2010  Enero    7              Polanco    6173\n",
            "16  2010-01-01  2010  Enero    4      Canal del Norte    2317\n",
            "17  2010-01-01  2010  Enero    4            Bondojito    2474\n",
            "18  2010-01-01  2010  Enero    4          Santa Anita    1042\n",
            "19  2010-01-01  2010  Enero    2              Popotla    2419\n",
            "20  2010-01-01  2010  Enero    2        General Anaya    6819\n",
            "21  2010-01-01  2010  Enero    3  DivisiA3n del Norte    2417\n",
            "22  2010-01-01  2010  Enero    3               Zapata    7334\n",
            "23  2010-01-01  2010  Enero    4        Fray Servando    2667\n",
            "24  2010-01-01  2010  Enero    5             Hangares    1826\n",
            "25  2010-01-01  2010  Enero    5           PantitlA!n   38694\n",
            "26  2010-01-01  2010  Enero    6           El Rosario    7912\n",
            "27  2010-01-01  2010  Enero    6             FerrerAa    2370\n",
            "28  2010-01-01  2010  Enero    6  Inst. del PetrA3leo     362\n",
            "29  2010-01-01  2010  Enero    8               Coyuya    5322\n"
          ]
        }
      ]
    },
    {
      "cell_type": "code",
      "source": [
        "import datetime\n",
        "\n",
        "# Obtener la fecha y hora actual\n",
        "now = datetime.datetime.now()\n",
        "\n",
        "# Formatear la fecha y hora actual como una cadena de caracteres\n",
        "ingestion_date = now.strftime('%Y-%m-%d %H:%M:%S')\n",
        "\n",
        "# Agregar la nueva columna al DataFrame\n",
        "df['ingestion_date'] = ingestion_date\n"
      ],
      "metadata": {
        "id": "MpE6fEuWC-Zo"
      },
      "execution_count": 31,
      "outputs": []
    },
    {
      "cell_type": "code",
      "source": [
        "print(df.head(30))"
      ],
      "metadata": {
        "colab": {
          "base_uri": "https://localhost:8080/"
        },
        "id": "CY9vuCdUDCdj",
        "outputId": "94a975b6-9a3e-4889-cc00-2d10f774341f"
      },
      "execution_count": 32,
      "outputs": [
        {
          "output_type": "stream",
          "name": "stdout",
          "text": [
            "          date  year  month line              station  influx  \\\n",
            "0   2010-01-01  2010  Enero    1             Zaragoza   20227   \n",
            "1   2010-01-01  2010  Enero    1  Isabel la CatA3lica    6487   \n",
            "2   2010-01-01  2010  Enero    1            Moctezuma   10304   \n",
            "3   2010-01-01  2010  Enero    1         Pino SuA!rez    8679   \n",
            "4   2010-01-01  2010  Enero    1        GA3mez FarAas   19499   \n",
            "5   2010-01-01  2010  Enero    6  Deptvo. 18 de Marzo     621   \n",
            "6   2010-01-01  2010  Enero    6    La Villa-Basilica   24792   \n",
            "7   2010-01-01  2010  Enero    9           PantitlA!n   27000   \n",
            "8   2010-01-01  2010  Enero    8               Aculco    3652   \n",
            "9   2010-01-01  2010  Enero    9           VelA3dromo    3239   \n",
            "10  2010-01-01  2010  Enero    5  Autobuses del Norte   16824   \n",
            "11  2010-01-01  2010  Enero    5            Misterios    3513   \n",
            "12  2010-01-01  2010  Enero    7       Constituyentes    1417   \n",
            "13  2010-01-01  2010  Enero    7            RefinerAa    2325   \n",
            "14  2010-01-01  2010  Enero    3              EtiopAa    7078   \n",
            "15  2010-01-01  2010  Enero    7              Polanco    6173   \n",
            "16  2010-01-01  2010  Enero    4      Canal del Norte    2317   \n",
            "17  2010-01-01  2010  Enero    4            Bondojito    2474   \n",
            "18  2010-01-01  2010  Enero    4          Santa Anita    1042   \n",
            "19  2010-01-01  2010  Enero    2              Popotla    2419   \n",
            "20  2010-01-01  2010  Enero    2        General Anaya    6819   \n",
            "21  2010-01-01  2010  Enero    3  DivisiA3n del Norte    2417   \n",
            "22  2010-01-01  2010  Enero    3               Zapata    7334   \n",
            "23  2010-01-01  2010  Enero    4        Fray Servando    2667   \n",
            "24  2010-01-01  2010  Enero    5             Hangares    1826   \n",
            "25  2010-01-01  2010  Enero    5           PantitlA!n   38694   \n",
            "26  2010-01-01  2010  Enero    6           El Rosario    7912   \n",
            "27  2010-01-01  2010  Enero    6             FerrerAa    2370   \n",
            "28  2010-01-01  2010  Enero    6  Inst. del PetrA3leo     362   \n",
            "29  2010-01-01  2010  Enero    8               Coyuya    5322   \n",
            "\n",
            "         ingestion_date  \n",
            "0   2023-03-08 22:13:01  \n",
            "1   2023-03-08 22:13:01  \n",
            "2   2023-03-08 22:13:01  \n",
            "3   2023-03-08 22:13:01  \n",
            "4   2023-03-08 22:13:01  \n",
            "5   2023-03-08 22:13:01  \n",
            "6   2023-03-08 22:13:01  \n",
            "7   2023-03-08 22:13:01  \n",
            "8   2023-03-08 22:13:01  \n",
            "9   2023-03-08 22:13:01  \n",
            "10  2023-03-08 22:13:01  \n",
            "11  2023-03-08 22:13:01  \n",
            "12  2023-03-08 22:13:01  \n",
            "13  2023-03-08 22:13:01  \n",
            "14  2023-03-08 22:13:01  \n",
            "15  2023-03-08 22:13:01  \n",
            "16  2023-03-08 22:13:01  \n",
            "17  2023-03-08 22:13:01  \n",
            "18  2023-03-08 22:13:01  \n",
            "19  2023-03-08 22:13:01  \n",
            "20  2023-03-08 22:13:01  \n",
            "21  2023-03-08 22:13:01  \n",
            "22  2023-03-08 22:13:01  \n",
            "23  2023-03-08 22:13:01  \n",
            "24  2023-03-08 22:13:01  \n",
            "25  2023-03-08 22:13:01  \n",
            "26  2023-03-08 22:13:01  \n",
            "27  2023-03-08 22:13:01  \n",
            "28  2023-03-08 22:13:01  \n",
            "29  2023-03-08 22:13:01  \n"
          ]
        }
      ]
    },
    {
      "cell_type": "code",
      "source": [
        "df.info()"
      ],
      "metadata": {
        "colab": {
          "base_uri": "https://localhost:8080/"
        },
        "id": "ccL9aSI5DDPh",
        "outputId": "ca81bac8-291a-4e63-b393-38d6520709fa"
      },
      "execution_count": 33,
      "outputs": [
        {
          "output_type": "stream",
          "name": "stdout",
          "text": [
            "<class 'pandas.core.frame.DataFrame'>\n",
            "RangeIndex: 931905 entries, 0 to 931904\n",
            "Data columns (total 7 columns):\n",
            " #   Column          Non-Null Count   Dtype \n",
            "---  ------          --------------   ----- \n",
            " 0   date            931905 non-null  object\n",
            " 1   year            931905 non-null  int64 \n",
            " 2   month           931905 non-null  object\n",
            " 3   line            931905 non-null  object\n",
            " 4   station         931905 non-null  object\n",
            " 5   influx          931905 non-null  int64 \n",
            " 6   ingestion_date  931905 non-null  object\n",
            "dtypes: int64(2), object(5)\n",
            "memory usage: 49.8+ MB\n"
          ]
        }
      ]
    },
    {
      "cell_type": "code",
      "source": [
        "print(df.dtypes)"
      ],
      "metadata": {
        "colab": {
          "base_uri": "https://localhost:8080/"
        },
        "id": "XdDZfVwHT6v6",
        "outputId": "ce86fcf1-4fad-42aa-fa31-a6569fb96fb4"
      },
      "execution_count": 35,
      "outputs": [
        {
          "output_type": "stream",
          "name": "stdout",
          "text": [
            "date              object\n",
            "year               int64\n",
            "month             object\n",
            "line              object\n",
            "station           object\n",
            "influx             int64\n",
            "ingestion_date    object\n",
            "dtype: object\n"
          ]
        }
      ]
    },
    {
      "cell_type": "code",
      "source": [
        "from google.colab import auth\n",
        "auth.authenticate_user()\n",
        "from google.cloud import bigquery\n",
        "from io import BytesIO"
      ],
      "metadata": {
        "id": "pDjF0tcNDlZq"
      },
      "execution_count": 40,
      "outputs": []
    },
    {
      "cell_type": "code",
      "source": [
        "df['date'] = df['date'].astype('string')\n",
        "df['month'] = df['month'].astype('string')\n",
        "df['line'] = df['line'].astype('string')\n",
        "df['station'] = df['station'].astype('string')\n",
        "df['ingestion_date'] = df['ingestion_date'].astype('string')\n",
        "\n"
      ],
      "metadata": {
        "id": "IdvXoHJHUH0b"
      },
      "execution_count": 41,
      "outputs": []
    },
    {
      "cell_type": "code",
      "source": [
        "print(df.dtypes)"
      ],
      "metadata": {
        "colab": {
          "base_uri": "https://localhost:8080/"
        },
        "id": "Purx1xEEUXgc",
        "outputId": "ceaeb988-c502-44b0-c633-a8bb34f1df87"
      },
      "execution_count": 42,
      "outputs": [
        {
          "output_type": "stream",
          "name": "stdout",
          "text": [
            "date              string\n",
            "year               int64\n",
            "month             string\n",
            "line              string\n",
            "station           string\n",
            "influx             int64\n",
            "ingestion_date    string\n",
            "dtype: object\n"
          ]
        }
      ]
    },
    {
      "cell_type": "code",
      "source": [
        "client = bigquery.Client.from_service_account_json('/content/calm-dragon-378604-5b5edf465d57.json')\n"
      ],
      "metadata": {
        "id": "G-RMvuBAU7Wh"
      },
      "execution_count": 60,
      "outputs": []
    },
    {
      "cell_type": "code",
      "source": [
        "table_id = 'calm-dragon-378604.exercise_gcp.subway_daily_flow'\n",
        "\n",
        "schema_df = [\n",
        "    bigquery.SchemaField('date', 'STRING'),\n",
        "    bigquery.SchemaField('year', 'int64'),\n",
        "    bigquery.SchemaField('month', 'STRING'),\n",
        "    bigquery.SchemaField('line', 'STRING'),\n",
        "    bigquery.SchemaField('station', 'STRING'),\n",
        "    bigquery.SchemaField('influx', 'int64'),\n",
        "    bigquery.SchemaField('ingestion_date', 'STRING'),\n",
        "]\n"
      ],
      "metadata": {
        "id": "aKu8zB7saTzQ"
      },
      "execution_count": 61,
      "outputs": []
    },
    {
      "cell_type": "code",
      "source": [
        "job_config_movie = bigquery.LoadJobConfig(\n",
        "  \n",
        "    schema=schema_df,\n",
        "    \n",
        "    write_disposition=\"WRITE_TRUNCATE\",\n",
        ")\n",
        "    "
      ],
      "metadata": {
        "id": "XCwmTPkHcDha"
      },
      "execution_count": 62,
      "outputs": []
    },
    {
      "cell_type": "code",
      "source": [
        "job = client.load_table_from_dataframe(\n",
        "      df, table_id, job_config=job_config_movie\n",
        "  )  # Make an API request.\n",
        "job.result()  # Wait for the job to complete.\n",
        "\n",
        "table = client.get_table(table_id)  # Make an API request.\n",
        "print(\n",
        "      \"Loaded {} rows and {} columns to {}\".format(\n",
        "          table.num_rows, len(table.schema), table_id\n",
        "      )\n",
        "  )"
      ],
      "metadata": {
        "colab": {
          "base_uri": "https://localhost:8080/"
        },
        "id": "YOSFlCh9dGbz",
        "outputId": "bf327bfc-2a49-4f75-f38c-3e27de29377c"
      },
      "execution_count": 63,
      "outputs": [
        {
          "output_type": "stream",
          "name": "stdout",
          "text": [
            "Loaded 931905 rows and 7 columns to calm-dragon-378604.exercise_gcp.subway_daily_flow\n"
          ]
        }
      ]
    }
  ]
}