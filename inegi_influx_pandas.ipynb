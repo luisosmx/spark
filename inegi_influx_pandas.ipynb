{
  "nbformat": 4,
  "nbformat_minor": 0,
  "metadata": {
    "colab": {
      "provenance": [],
      "authorship_tag": "ABX9TyNpPJX4/E3pIqu9oEL2yPsY",
      "include_colab_link": true
    },
    "kernelspec": {
      "name": "python3",
      "display_name": "Python 3"
    },
    "language_info": {
      "name": "python"
    }
  },
  "cells": [
    {
      "cell_type": "markdown",
      "metadata": {
        "id": "view-in-github",
        "colab_type": "text"
      },
      "source": [
        "<a href=\"https://colab.research.google.com/github/luisosmx/spark/blob/main/inegi_influx_pandas.ipynb\" target=\"_parent\"><img src=\"https://colab.research.google.com/assets/colab-badge.svg\" alt=\"Open In Colab\"/></a>"
      ]
    },
    {
      "cell_type": "code",
      "execution_count": 1,
      "metadata": {
        "id": "MpGDjmcfU5Lo"
      },
      "outputs": [],
      "source": [
        "import pandas as pd\n"
      ]
    },
    {
      "cell_type": "code",
      "source": [
        "url = 'https://datos.cdmx.gob.mx/dataset/f2046fd5-51b5-4876-b008-bd65d95f9a02/resource/0e8ffe58-28bb-4dde-afcd-e5f5b4de4ccb/download/afluenciastc_simple_01_2023.csv'\n",
        "df = pd.read_csv(url, encoding='ISO-8859-1')\n"
      ],
      "metadata": {
        "id": "ZZfHAOnDvoAT"
      },
      "execution_count": 3,
      "outputs": []
    },
    {
      "cell_type": "code",
      "source": [
        "print(df.head(10))\n"
      ],
      "metadata": {
        "colab": {
          "base_uri": "https://localhost:8080/"
        },
        "id": "5FKeRX6jwO7t",
        "outputId": "25f9732f-77da-4ba3-f938-7178ca8e1d00"
      },
      "execution_count": 5,
      "outputs": [
        {
          "output_type": "stream",
          "name": "stdout",
          "text": [
            "        fecha  anio    mes    linea             estacion  afluencia\n",
            "0  2010-01-01  2010  Enero  Linea 1             Zaragoza      20227\n",
            "1  2010-01-01  2010  Enero  Linea 1  Isabel la CatÃ³lica       6487\n",
            "2  2010-01-01  2010  Enero  Linea 1            Moctezuma      10304\n",
            "3  2010-01-01  2010  Enero  Linea 1         Pino SuÃ¡rez       8679\n",
            "4  2010-01-01  2010  Enero  Linea 1       GÃ³mez FarÃ­as      19499\n",
            "5  2010-01-01  2010  Enero  Linea 6  Deptvo. 18 de Marzo        621\n",
            "6  2010-01-01  2010  Enero  Linea 6    La Villa-Basilica      24792\n",
            "7  2010-01-01  2010  Enero  Linea 9           PantitlÃ¡n      27000\n",
            "8  2010-01-01  2010  Enero  Linea 8               Aculco       3652\n",
            "9  2010-01-01  2010  Enero  Linea 9           VelÃ³dromo       3239\n"
          ]
        }
      ]
    },
    {
      "cell_type": "code",
      "source": [
        "df = df.rename(columns={'fecha': 'date', 'anio': 'year', 'mes': 'month', 'linea': 'line', 'estacion': 'station', 'afluencia': 'influx'})\n"
      ],
      "metadata": {
        "id": "6crFgoI2wR4k"
      },
      "execution_count": 6,
      "outputs": []
    },
    {
      "cell_type": "code",
      "source": [
        "print(df.head(10))"
      ],
      "metadata": {
        "colab": {
          "base_uri": "https://localhost:8080/"
        },
        "id": "jG-G3qrCxR2v",
        "outputId": "de494d1a-3052-4bfd-d2cf-9d16c71c4db9"
      },
      "execution_count": 7,
      "outputs": [
        {
          "output_type": "stream",
          "name": "stdout",
          "text": [
            "         date  year  month     line              station  influx\n",
            "0  2010-01-01  2010  Enero  Linea 1             Zaragoza   20227\n",
            "1  2010-01-01  2010  Enero  Linea 1  Isabel la CatÃ³lica    6487\n",
            "2  2010-01-01  2010  Enero  Linea 1            Moctezuma   10304\n",
            "3  2010-01-01  2010  Enero  Linea 1         Pino SuÃ¡rez    8679\n",
            "4  2010-01-01  2010  Enero  Linea 1       GÃ³mez FarÃ­as   19499\n",
            "5  2010-01-01  2010  Enero  Linea 6  Deptvo. 18 de Marzo     621\n",
            "6  2010-01-01  2010  Enero  Linea 6    La Villa-Basilica   24792\n",
            "7  2010-01-01  2010  Enero  Linea 9           PantitlÃ¡n   27000\n",
            "8  2010-01-01  2010  Enero  Linea 8               Aculco    3652\n",
            "9  2010-01-01  2010  Enero  Linea 9           VelÃ³dromo    3239\n"
          ]
        }
      ]
    },
    {
      "cell_type": "code",
      "source": [
        "line_dict = {'Linea 1': '1', 'Linea 2': '2', 'Linea 3': '3', 'Linea 4': '4', 'Linea 5': '5', 'Linea 6': '6', 'Linea 7': '7', 'Linea 8': '8', 'Linea 9': '9', 'Linea A': 'A', 'Linea B': 'B', 'Linea 12': '12'}\n",
        "df['line'] = df['line'].replace(line_dict)\n"
      ],
      "metadata": {
        "id": "b_d4nmG6xZHD"
      },
      "execution_count": 8,
      "outputs": []
    },
    {
      "cell_type": "code",
      "source": [
        "print(df.head(10))"
      ],
      "metadata": {
        "colab": {
          "base_uri": "https://localhost:8080/"
        },
        "id": "sBmMyIT8_ahh",
        "outputId": "f5f92dc5-77f5-4211-b887-5678ea1fa051"
      },
      "execution_count": 9,
      "outputs": [
        {
          "output_type": "stream",
          "name": "stdout",
          "text": [
            "         date  year  month line              station  influx\n",
            "0  2010-01-01  2010  Enero    1             Zaragoza   20227\n",
            "1  2010-01-01  2010  Enero    1  Isabel la CatÃ³lica    6487\n",
            "2  2010-01-01  2010  Enero    1            Moctezuma   10304\n",
            "3  2010-01-01  2010  Enero    1         Pino SuÃ¡rez    8679\n",
            "4  2010-01-01  2010  Enero    1       GÃ³mez FarÃ­as   19499\n",
            "5  2010-01-01  2010  Enero    6  Deptvo. 18 de Marzo     621\n",
            "6  2010-01-01  2010  Enero    6    La Villa-Basilica   24792\n",
            "7  2010-01-01  2010  Enero    9           PantitlÃ¡n   27000\n",
            "8  2010-01-01  2010  Enero    8               Aculco    3652\n",
            "9  2010-01-01  2010  Enero    9           VelÃ³dromo    3239\n"
          ]
        }
      ]
    },
    {
      "cell_type": "code",
      "source": [
        "!pip install unidecode\n",
        "from unidecode import unidecode"
      ],
      "metadata": {
        "colab": {
          "base_uri": "https://localhost:8080/"
        },
        "id": "2N1S1573AW3v",
        "outputId": "1c5ff611-1753-4880-f6ea-d8222b79b596"
      },
      "execution_count": 10,
      "outputs": [
        {
          "output_type": "stream",
          "name": "stdout",
          "text": [
            "Looking in indexes: https://pypi.org/simple, https://us-python.pkg.dev/colab-wheels/public/simple/\n",
            "Collecting unidecode\n",
            "  Downloading Unidecode-1.3.6-py3-none-any.whl (235 kB)\n",
            "\u001b[2K     \u001b[90m━━━━━━━━━━━━━━━━━━━━━━━━━━━━━━━━━━━━━━━\u001b[0m \u001b[32m235.9/235.9 KB\u001b[0m \u001b[31m6.2 MB/s\u001b[0m eta \u001b[36m0:00:00\u001b[0m\n",
            "\u001b[?25hInstalling collected packages: unidecode\n",
            "Successfully installed unidecode-1.3.6\n"
          ]
        }
      ]
    },
    {
      "cell_type": "code",
      "source": [
        "df['station'] = df['station'].apply(lambda x: unidecode(x))"
      ],
      "metadata": {
        "id": "CWKFEiV0Auys"
      },
      "execution_count": 11,
      "outputs": []
    },
    {
      "cell_type": "code",
      "source": [
        "print(df.head(30))"
      ],
      "metadata": {
        "colab": {
          "base_uri": "https://localhost:8080/"
        },
        "id": "BLCCvylcAy20",
        "outputId": "0f273c93-bd02-4ca7-eee6-1c9dd5f2ec41"
      },
      "execution_count": 12,
      "outputs": [
        {
          "output_type": "stream",
          "name": "stdout",
          "text": [
            "          date  year  month line              station  influx\n",
            "0   2010-01-01  2010  Enero    1             Zaragoza   20227\n",
            "1   2010-01-01  2010  Enero    1  Isabel la CatA3lica    6487\n",
            "2   2010-01-01  2010  Enero    1            Moctezuma   10304\n",
            "3   2010-01-01  2010  Enero    1         Pino SuA!rez    8679\n",
            "4   2010-01-01  2010  Enero    1        GA3mez FarAas   19499\n",
            "5   2010-01-01  2010  Enero    6  Deptvo. 18 de Marzo     621\n",
            "6   2010-01-01  2010  Enero    6    La Villa-Basilica   24792\n",
            "7   2010-01-01  2010  Enero    9           PantitlA!n   27000\n",
            "8   2010-01-01  2010  Enero    8               Aculco    3652\n",
            "9   2010-01-01  2010  Enero    9           VelA3dromo    3239\n",
            "10  2010-01-01  2010  Enero    5  Autobuses del Norte   16824\n",
            "11  2010-01-01  2010  Enero    5            Misterios    3513\n",
            "12  2010-01-01  2010  Enero    7       Constituyentes    1417\n",
            "13  2010-01-01  2010  Enero    7            RefinerAa    2325\n",
            "14  2010-01-01  2010  Enero    3              EtiopAa    7078\n",
            "15  2010-01-01  2010  Enero    7              Polanco    6173\n",
            "16  2010-01-01  2010  Enero    4      Canal del Norte    2317\n",
            "17  2010-01-01  2010  Enero    4            Bondojito    2474\n",
            "18  2010-01-01  2010  Enero    4          Santa Anita    1042\n",
            "19  2010-01-01  2010  Enero    2              Popotla    2419\n",
            "20  2010-01-01  2010  Enero    2        General Anaya    6819\n",
            "21  2010-01-01  2010  Enero    3  DivisiA3n del Norte    2417\n",
            "22  2010-01-01  2010  Enero    3               Zapata    7334\n",
            "23  2010-01-01  2010  Enero    4        Fray Servando    2667\n",
            "24  2010-01-01  2010  Enero    5             Hangares    1826\n",
            "25  2010-01-01  2010  Enero    5           PantitlA!n   38694\n",
            "26  2010-01-01  2010  Enero    6           El Rosario    7912\n",
            "27  2010-01-01  2010  Enero    6             FerrerAa    2370\n",
            "28  2010-01-01  2010  Enero    6  Inst. del PetrA3leo     362\n",
            "29  2010-01-01  2010  Enero    8               Coyuya    5322\n"
          ]
        }
      ]
    },
    {
      "cell_type": "code",
      "source": [
        "import datetime\n",
        "\n",
        "# Obtener la fecha y hora actual\n",
        "now = datetime.datetime.now()\n",
        "\n",
        "# Formatear la fecha y hora actual como una cadena de caracteres\n",
        "ingestion_date = now.strftime('%Y-%m-%d %H:%M:%S')\n",
        "\n",
        "# Agregar la nueva columna al DataFrame\n",
        "df['ingestion_date'] = ingestion_date\n"
      ],
      "metadata": {
        "id": "MpE6fEuWC-Zo"
      },
      "execution_count": 15,
      "outputs": []
    },
    {
      "cell_type": "code",
      "source": [
        "print(df.head(30))"
      ],
      "metadata": {
        "colab": {
          "base_uri": "https://localhost:8080/"
        },
        "id": "CY9vuCdUDCdj",
        "outputId": "64d234d2-7206-4df9-93b2-97c08150c6cc"
      },
      "execution_count": 16,
      "outputs": [
        {
          "output_type": "stream",
          "name": "stdout",
          "text": [
            "          date  year  month line              station  influx  \\\n",
            "0   2010-01-01  2010  Enero    1             Zaragoza   20227   \n",
            "1   2010-01-01  2010  Enero    1  Isabel la CatA3lica    6487   \n",
            "2   2010-01-01  2010  Enero    1            Moctezuma   10304   \n",
            "3   2010-01-01  2010  Enero    1         Pino SuA!rez    8679   \n",
            "4   2010-01-01  2010  Enero    1        GA3mez FarAas   19499   \n",
            "5   2010-01-01  2010  Enero    6  Deptvo. 18 de Marzo     621   \n",
            "6   2010-01-01  2010  Enero    6    La Villa-Basilica   24792   \n",
            "7   2010-01-01  2010  Enero    9           PantitlA!n   27000   \n",
            "8   2010-01-01  2010  Enero    8               Aculco    3652   \n",
            "9   2010-01-01  2010  Enero    9           VelA3dromo    3239   \n",
            "10  2010-01-01  2010  Enero    5  Autobuses del Norte   16824   \n",
            "11  2010-01-01  2010  Enero    5            Misterios    3513   \n",
            "12  2010-01-01  2010  Enero    7       Constituyentes    1417   \n",
            "13  2010-01-01  2010  Enero    7            RefinerAa    2325   \n",
            "14  2010-01-01  2010  Enero    3              EtiopAa    7078   \n",
            "15  2010-01-01  2010  Enero    7              Polanco    6173   \n",
            "16  2010-01-01  2010  Enero    4      Canal del Norte    2317   \n",
            "17  2010-01-01  2010  Enero    4            Bondojito    2474   \n",
            "18  2010-01-01  2010  Enero    4          Santa Anita    1042   \n",
            "19  2010-01-01  2010  Enero    2              Popotla    2419   \n",
            "20  2010-01-01  2010  Enero    2        General Anaya    6819   \n",
            "21  2010-01-01  2010  Enero    3  DivisiA3n del Norte    2417   \n",
            "22  2010-01-01  2010  Enero    3               Zapata    7334   \n",
            "23  2010-01-01  2010  Enero    4        Fray Servando    2667   \n",
            "24  2010-01-01  2010  Enero    5             Hangares    1826   \n",
            "25  2010-01-01  2010  Enero    5           PantitlA!n   38694   \n",
            "26  2010-01-01  2010  Enero    6           El Rosario    7912   \n",
            "27  2010-01-01  2010  Enero    6             FerrerAa    2370   \n",
            "28  2010-01-01  2010  Enero    6  Inst. del PetrA3leo     362   \n",
            "29  2010-01-01  2010  Enero    8               Coyuya    5322   \n",
            "\n",
            "         ingestion_date  \n",
            "0   2023-03-08 21:06:30  \n",
            "1   2023-03-08 21:06:30  \n",
            "2   2023-03-08 21:06:30  \n",
            "3   2023-03-08 21:06:30  \n",
            "4   2023-03-08 21:06:30  \n",
            "5   2023-03-08 21:06:30  \n",
            "6   2023-03-08 21:06:30  \n",
            "7   2023-03-08 21:06:30  \n",
            "8   2023-03-08 21:06:30  \n",
            "9   2023-03-08 21:06:30  \n",
            "10  2023-03-08 21:06:30  \n",
            "11  2023-03-08 21:06:30  \n",
            "12  2023-03-08 21:06:30  \n",
            "13  2023-03-08 21:06:30  \n",
            "14  2023-03-08 21:06:30  \n",
            "15  2023-03-08 21:06:30  \n",
            "16  2023-03-08 21:06:30  \n",
            "17  2023-03-08 21:06:30  \n",
            "18  2023-03-08 21:06:30  \n",
            "19  2023-03-08 21:06:30  \n",
            "20  2023-03-08 21:06:30  \n",
            "21  2023-03-08 21:06:30  \n",
            "22  2023-03-08 21:06:30  \n",
            "23  2023-03-08 21:06:30  \n",
            "24  2023-03-08 21:06:30  \n",
            "25  2023-03-08 21:06:30  \n",
            "26  2023-03-08 21:06:30  \n",
            "27  2023-03-08 21:06:30  \n",
            "28  2023-03-08 21:06:30  \n",
            "29  2023-03-08 21:06:30  \n"
          ]
        }
      ]
    },
    {
      "cell_type": "code",
      "source": [
        "df.info()"
      ],
      "metadata": {
        "colab": {
          "base_uri": "https://localhost:8080/"
        },
        "id": "ccL9aSI5DDPh",
        "outputId": "6268740f-c30b-4de9-e457-51e14ac8bdd9"
      },
      "execution_count": 18,
      "outputs": [
        {
          "output_type": "stream",
          "name": "stdout",
          "text": [
            "<class 'pandas.core.frame.DataFrame'>\n",
            "RangeIndex: 931905 entries, 0 to 931904\n",
            "Data columns (total 7 columns):\n",
            " #   Column          Non-Null Count   Dtype \n",
            "---  ------          --------------   ----- \n",
            " 0   date            931905 non-null  object\n",
            " 1   year            931905 non-null  int64 \n",
            " 2   month           931905 non-null  object\n",
            " 3   line            931905 non-null  object\n",
            " 4   station         931905 non-null  object\n",
            " 5   influx          931905 non-null  int64 \n",
            " 6   ingestion_date  931905 non-null  object\n",
            "dtypes: int64(2), object(5)\n",
            "memory usage: 49.8+ MB\n"
          ]
        }
      ]
    },
    {
      "cell_type": "code",
      "source": [],
      "metadata": {
        "id": "pDjF0tcNDlZq"
      },
      "execution_count": null,
      "outputs": []
    }
  ]
}