{
  "nbformat": 4,
  "nbformat_minor": 0,
  "metadata": {
    "colab": {
      "provenance": [],
      "include_colab_link": true
    },
    "kernelspec": {
      "name": "python3",
      "display_name": "Python 3"
    },
    "language_info": {
      "name": "python"
    }
  },
  "cells": [
    {
      "cell_type": "markdown",
      "metadata": {
        "id": "view-in-github",
        "colab_type": "text"
      },
      "source": [
        "<a href=\"https://colab.research.google.com/github/luisosmx/spark/blob/main/pyspark_poc.ipynb\" target=\"_parent\"><img src=\"https://colab.research.google.com/assets/colab-badge.svg\" alt=\"Open In Colab\"/></a>"
      ]
    },
    {
      "cell_type": "markdown",
      "metadata": {
        "id": "PaTIOCkCHrnI"
      },
      "source": [
        "# Setup"
      ]
    },
    {
      "cell_type": "code",
      "metadata": {
        "id": "JY2UBUP1HqwK",
        "colab": {
          "base_uri": "https://localhost:8080/"
        },
        "outputId": "a6883f62-4b00-4875-f5f1-303b01fe5acd"
      },
      "source": [
        "!apt-get install openjdk-8-jdk-headless -qq > /dev/null\n",
        "!wget -q http://archive.apache.org/dist/spark/spark-3.1.2/spark-3.1.2-bin-hadoop3.2.tgz\n",
        "!tar -xzf spark-3.1.2-bin-hadoop3.2.tgz\n",
        "!mv spark-3.1.2-bin-hadoop3.2.tgz /opt/spark-3.1.2\n",
        "!pip install -q findspark\n",
        "!pip install pyspark==3.1.2 \n",
        "!ln -s /opt/spark-3.1.2 /opt/spark\n",
        "!export SPARK_HOME=/opt/spark\n",
        "!export PATH=$SPARK_HOME/bin:$PATH"
      ],
      "execution_count": null,
      "outputs": [
        {
          "output_type": "stream",
          "name": "stdout",
          "text": [
            "Looking in indexes: https://pypi.org/simple, https://us-python.pkg.dev/colab-wheels/public/simple/\n",
            "Requirement already satisfied: pyspark==3.1.2 in /usr/local/lib/python3.8/dist-packages (3.1.2)\n",
            "Requirement already satisfied: py4j==0.10.9 in /usr/local/lib/python3.8/dist-packages (from pyspark==3.1.2) (0.10.9)\n",
            "ln: failed to create symbolic link '/opt/spark': File exists\n"
          ]
        }
      ]
    },
    {
      "cell_type": "code",
      "source": [
        "!pip install pyspark==3.1.2 "
      ],
      "metadata": {
        "id": "O1G5AE0JVE14",
        "colab": {
          "base_uri": "https://localhost:8080/"
        },
        "outputId": "cc511953-2843-4682-82b5-91ccc78d1821"
      },
      "execution_count": null,
      "outputs": [
        {
          "output_type": "stream",
          "name": "stdout",
          "text": [
            "Looking in indexes: https://pypi.org/simple, https://us-python.pkg.dev/colab-wheels/public/simple/\n",
            "Requirement already satisfied: pyspark==3.1.2 in /usr/local/lib/python3.8/dist-packages (3.1.2)\n",
            "Requirement already satisfied: py4j==0.10.9 in /usr/local/lib/python3.8/dist-packages (from pyspark==3.1.2) (0.10.9)\n"
          ]
        }
      ]
    },
    {
      "cell_type": "code",
      "source": [
        "pip freeze"
      ],
      "metadata": {
        "id": "WoWcUVo-VTww"
      },
      "execution_count": null,
      "outputs": []
    },
    {
      "cell_type": "code",
      "metadata": {
        "id": "BWFsts1yI2vx",
        "colab": {
          "base_uri": "https://localhost:8080/"
        },
        "outputId": "f0e397b2-e194-4f52-d91d-f51b4348aae8"
      },
      "source": [
        "import os\n",
        "import findspark\n",
        "\n",
        "import pyspark\n",
        "from pyspark import SparkContext, SparkConf\n",
        "from pyspark.sql import Row\n",
        "from pyspark.sql import SQLContext\n",
        "from pyspark.sql import SparkSession\n",
        "\n",
        "os.environ['JAVA_HOME'] = '/usr/lib/jvm/java-8-openjdk-amd64'\n",
        "os.environ['SPARK_HOME'] = '/content/spark-3.1.2-bin-hadoop3.2'\n",
        "#os.environ['PYSPARK_SUBMIT_ARGS'] = '--packages com.amazonaws:aws-java-sdk:1.10.34,org.apache.hadoop:hadoop-aws:2.6.0 pyspark-shell'\n",
        "os.environ['PYSPARK_SUBMIT_ARGS'] = '--packages com.amazonaws:aws-java-sdk:1.10.34,org.apache.hadoop:hadoop-aws:2.7.2 pyspark-shell'\n",
        "\n",
        "findspark.init()\n",
        "\n",
        "sc = pyspark.SparkContext(\"local[*]\")\n",
        "spark = SparkSession(sc)\n",
        "\n",
        "print('Modules imported and Spark loaded')"
      ],
      "execution_count": null,
      "outputs": [
        {
          "output_type": "stream",
          "name": "stdout",
          "text": [
            "Modules imported and Spark loaded\n"
          ]
        }
      ]
    },
    {
      "cell_type": "markdown",
      "metadata": {
        "id": "MfD90BHevlbG"
      },
      "source": [
        "# Loading data into PySpark"
      ]
    },
    {
      "cell_type": "markdown",
      "metadata": {
        "id": "9e1baC18ybZ4"
      },
      "source": [
        "Getting data from Github repo without clonning the project, just using [raw.githubusercontent.com](https://stackoverflow.com/questions/39065921/what-do-raw-githubusercontent-com-urls-represent)"
      ]
    },
    {
      "cell_type": "code",
      "metadata": {
        "id": "Tv0MNyJHJV02",
        "colab": {
          "base_uri": "https://localhost:8080/"
        },
        "outputId": "43dd3184-4790-46ac-888d-9991c6e49689"
      },
      "source": [
        "!wget --continue /content/afluenciastc_simple_01_2023.csv"
      ],
      "execution_count": null,
      "outputs": [
        {
          "output_type": "stream",
          "name": "stdout",
          "text": [
            "/content/afluenciastc_simple_01_2023.csv: Scheme missing.\n"
          ]
        }
      ]
    },
    {
      "cell_type": "markdown",
      "metadata": {
        "id": "wajfiPtGyuyu"
      },
      "source": [
        "Reading the file with a Spark dataframe"
      ]
    },
    {
      "cell_type": "code",
      "metadata": {
        "id": "0eYhKMt9xQjV",
        "outputId": "7fba00cf-ab42-4912-f8d6-b28e7300b6a0",
        "colab": {
          "base_uri": "https://localhost:8080/"
        }
      },
      "source": [
        "spark_df = spark.read.csv('/content/afluenciastc_simple_01_2023.csv')\n",
        "spark_df.show(20)\n",
        "\n"
      ],
      "execution_count": null,
      "outputs": [
        {
          "output_type": "stream",
          "name": "stdout",
          "text": [
            "+----------+----+-----+-------+-------------------+---------+\n",
            "|       _c0| _c1|  _c2|    _c3|                _c4|      _c5|\n",
            "+----------+----+-----+-------+-------------------+---------+\n",
            "|     fecha|anio|  mes|  linea|           estacion|afluencia|\n",
            "|2010-01-01|2010|Enero|Linea 1|           Zaragoza|    20227|\n",
            "|2010-01-01|2010|Enero|Linea 1| Isabel la Católica|     6487|\n",
            "|2010-01-01|2010|Enero|Linea 1|          Moctezuma|    10304|\n",
            "|2010-01-01|2010|Enero|Linea 1|        Pino Suárez|     8679|\n",
            "|2010-01-01|2010|Enero|Linea 1|       Gómez Farías|    19499|\n",
            "|2010-01-01|2010|Enero|Linea 6|Deptvo. 18 de Marzo|      621|\n",
            "|2010-01-01|2010|Enero|Linea 6|  La Villa-Basilica|    24792|\n",
            "|2010-01-01|2010|Enero|Linea 9|          Pantitlán|    27000|\n",
            "|2010-01-01|2010|Enero|Linea 8|             Aculco|     3652|\n",
            "|2010-01-01|2010|Enero|Linea 9|          Velódromo|     3239|\n",
            "|2010-01-01|2010|Enero|Linea 5|Autobuses del Norte|    16824|\n",
            "|2010-01-01|2010|Enero|Linea 5|          Misterios|     3513|\n",
            "|2010-01-01|2010|Enero|Linea 7|     Constituyentes|     1417|\n",
            "|2010-01-01|2010|Enero|Linea 7|          Refinería|     2325|\n",
            "|2010-01-01|2010|Enero|Linea 3|            Etiopía|     7078|\n",
            "|2010-01-01|2010|Enero|Linea 7|            Polanco|     6173|\n",
            "|2010-01-01|2010|Enero|Linea 4|    Canal del Norte|     2317|\n",
            "|2010-01-01|2010|Enero|Linea 4|          Bondojito|     2474|\n",
            "|2010-01-01|2010|Enero|Linea 4|        Santa Anita|     1042|\n",
            "+----------+----+-----+-------+-------------------+---------+\n",
            "only showing top 20 rows\n",
            "\n"
          ]
        }
      ]
    },
    {
      "cell_type": "code",
      "source": [
        "df = spark.read.option(\"header\",True).csv('/content/afluenciastc_simple_01_2023.csv')\n",
        "df.show(20)"
      ],
      "metadata": {
        "colab": {
          "base_uri": "https://localhost:8080/"
        },
        "id": "fHRYvFH1TR3O",
        "outputId": "4429fb94-4cfa-42f8-d922-503d058ca9ac"
      },
      "execution_count": null,
      "outputs": [
        {
          "output_type": "stream",
          "name": "stdout",
          "text": [
            "+----------+----+-----+-------+-------------------+---------+\n",
            "|     fecha|anio|  mes|  linea|           estacion|afluencia|\n",
            "+----------+----+-----+-------+-------------------+---------+\n",
            "|2010-01-01|2010|Enero|Linea 1|           Zaragoza|    20227|\n",
            "|2010-01-01|2010|Enero|Linea 1| Isabel la Católica|     6487|\n",
            "|2010-01-01|2010|Enero|Linea 1|          Moctezuma|    10304|\n",
            "|2010-01-01|2010|Enero|Linea 1|        Pino Suárez|     8679|\n",
            "|2010-01-01|2010|Enero|Linea 1|       Gómez Farías|    19499|\n",
            "|2010-01-01|2010|Enero|Linea 6|Deptvo. 18 de Marzo|      621|\n",
            "|2010-01-01|2010|Enero|Linea 6|  La Villa-Basilica|    24792|\n",
            "|2010-01-01|2010|Enero|Linea 9|          Pantitlán|    27000|\n",
            "|2010-01-01|2010|Enero|Linea 8|             Aculco|     3652|\n",
            "|2010-01-01|2010|Enero|Linea 9|          Velódromo|     3239|\n",
            "|2010-01-01|2010|Enero|Linea 5|Autobuses del Norte|    16824|\n",
            "|2010-01-01|2010|Enero|Linea 5|          Misterios|     3513|\n",
            "|2010-01-01|2010|Enero|Linea 7|     Constituyentes|     1417|\n",
            "|2010-01-01|2010|Enero|Linea 7|          Refinería|     2325|\n",
            "|2010-01-01|2010|Enero|Linea 3|            Etiopía|     7078|\n",
            "|2010-01-01|2010|Enero|Linea 7|            Polanco|     6173|\n",
            "|2010-01-01|2010|Enero|Linea 4|    Canal del Norte|     2317|\n",
            "|2010-01-01|2010|Enero|Linea 4|          Bondojito|     2474|\n",
            "|2010-01-01|2010|Enero|Linea 4|        Santa Anita|     1042|\n",
            "|2010-01-01|2010|Enero|Linea 2|            Popotla|     2419|\n",
            "+----------+----+-----+-------+-------------------+---------+\n",
            "only showing top 20 rows\n",
            "\n"
          ]
        }
      ]
    },
    {
      "cell_type": "markdown",
      "source": [
        "#Replace incoming column headers from Spanish to English"
      ],
      "metadata": {
        "id": "iauW6AFo5feq"
      }
    },
    {
      "cell_type": "code",
      "metadata": {
        "id": "TAs3RoXyzDdq",
        "colab": {
          "base_uri": "https://localhost:8080/"
        },
        "outputId": "96c2bfc2-5e58-4cb8-ddba-d221e657b74a"
      },
      "source": [
        "spark_df.select(\"_c3\",\"_c4\",\"_c5\") \\\n",
        "     .show(20)"
      ],
      "execution_count": null,
      "outputs": [
        {
          "output_type": "stream",
          "name": "stdout",
          "text": [
            "+-------+-------------------+---------+\n",
            "|    _c3|                _c4|      _c5|\n",
            "+-------+-------------------+---------+\n",
            "|  linea|           estacion|afluencia|\n",
            "|Linea 1|           Zaragoza|    20227|\n",
            "|Linea 1| Isabel la Católica|     6487|\n",
            "|Linea 1|          Moctezuma|    10304|\n",
            "|Linea 1|        Pino Suárez|     8679|\n",
            "|Linea 1|       Gómez Farías|    19499|\n",
            "|Linea 6|Deptvo. 18 de Marzo|      621|\n",
            "|Linea 6|  La Villa-Basilica|    24792|\n",
            "|Linea 9|          Pantitlán|    27000|\n",
            "|Linea 8|             Aculco|     3652|\n",
            "|Linea 9|          Velódromo|     3239|\n",
            "|Linea 5|Autobuses del Norte|    16824|\n",
            "|Linea 5|          Misterios|     3513|\n",
            "|Linea 7|     Constituyentes|     1417|\n",
            "|Linea 7|          Refinería|     2325|\n",
            "|Linea 3|            Etiopía|     7078|\n",
            "|Linea 7|            Polanco|     6173|\n",
            "|Linea 4|    Canal del Norte|     2317|\n",
            "|Linea 4|          Bondojito|     2474|\n",
            "|Linea 4|        Santa Anita|     1042|\n",
            "+-------+-------------------+---------+\n",
            "only showing top 20 rows\n",
            "\n"
          ]
        }
      ]
    },
    {
      "cell_type": "markdown",
      "source": [
        "#Filter Rows"
      ],
      "metadata": {
        "id": "xZLDJH7B5j5R"
      }
    },
    {
      "cell_type": "code",
      "source": [
        "spark_df.select(\"_c3\",\"_c4\",\"_c5\") \\\n",
        "  .where(\"_c3 == 'Linea 1'\") \\\n",
        "  .show(20)"
      ],
      "metadata": {
        "colab": {
          "base_uri": "https://localhost:8080/"
        },
        "id": "g74KSJAX4_YB",
        "outputId": "03d6ee9e-00c9-4935-c738-5be339735673"
      },
      "execution_count": null,
      "outputs": [
        {
          "output_type": "stream",
          "name": "stdout",
          "text": [
            "+-------+------------------+-----+\n",
            "|    _c3|               _c4|  _c5|\n",
            "+-------+------------------+-----+\n",
            "|Linea 1|          Zaragoza|20227|\n",
            "|Linea 1|Isabel la Católica| 6487|\n",
            "|Linea 1|         Moctezuma|10304|\n",
            "|Linea 1|       Pino Suárez| 8679|\n",
            "|Linea 1|      Gómez Farías|19499|\n",
            "|Linea 1|    Salto del Agua| 5483|\n",
            "|Linea 1|          Balderas| 3771|\n",
            "|Linea 1|          Tacubaya|12110|\n",
            "|Linea 1|      Observatorio|30492|\n",
            "|Linea 1|       Chapultepec|22692|\n",
            "|Linea 1|         Pantitlán|17042|\n",
            "|Linea 1|Blvd. Puerto Aéreo|16348|\n",
            "|Linea 1|           Sevilla| 4713|\n",
            "|Linea 1|          Balbuena| 2879|\n",
            "|Linea 1|        Candelaria| 9685|\n",
            "|Linea 1|            Merced|21524|\n",
            "|Linea 1|       Insurgentes|19578|\n",
            "|Linea 1|       Juanacatlán| 1493|\n",
            "|Linea 1|        Cuauhtémoc| 5791|\n",
            "|Linea 1|        San Lázaro|12677|\n",
            "+-------+------------------+-----+\n",
            "only showing top 20 rows\n",
            "\n"
          ]
        }
      ]
    },
    {
      "cell_type": "markdown",
      "source": [
        "#Sorting"
      ],
      "metadata": {
        "id": "79dhsQCF5mv4"
      }
    },
    {
      "cell_type": "code",
      "source": [
        "spark_df.select(\"_c3\",\"_c4\",\"_c5\") \\\n",
        "  .where(\"_c4 in ('Chapultepec','Observatorio','San Lázaro')\") \\\n",
        "  .orderBy(\"_c3\") \\\n",
        "  .show(50)"
      ],
      "metadata": {
        "colab": {
          "base_uri": "https://localhost:8080/"
        },
        "id": "kTbnro0v5sTJ",
        "outputId": "f2a9374d-0ffa-4466-b7e3-8db685e39523"
      },
      "execution_count": null,
      "outputs": [
        {
          "output_type": "stream",
          "name": "stdout",
          "text": [
            "+-------+------------+-----+\n",
            "|    _c3|         _c4|  _c5|\n",
            "+-------+------------+-----+\n",
            "|Linea 1| Chapultepec|58767|\n",
            "|Linea 1|Observatorio|64659|\n",
            "|Linea 1|Observatorio|77938|\n",
            "|Linea 1|Observatorio|85805|\n",
            "|Linea 1|  San Lázaro|25708|\n",
            "|Linea 1|  San Lázaro|27868|\n",
            "|Linea 1| Chapultepec|55607|\n",
            "|Linea 1|  San Lázaro|23551|\n",
            "|Linea 1| Chapultepec|52262|\n",
            "|Linea 1| Chapultepec|41543|\n",
            "|Linea 1|  San Lázaro|28121|\n",
            "|Linea 1|Observatorio|46024|\n",
            "|Linea 1|  San Lázaro|45170|\n",
            "|Linea 1| Chapultepec|47254|\n",
            "|Linea 1| Chapultepec|51880|\n",
            "|Linea 1|Observatorio|96871|\n",
            "|Linea 1| Chapultepec|51550|\n",
            "|Linea 1|  San Lázaro|33554|\n",
            "|Linea 1|  San Lázaro|29557|\n",
            "|Linea 1| Chapultepec|58686|\n",
            "|Linea 1| Chapultepec|62015|\n",
            "|Linea 1|Observatorio|84456|\n",
            "|Linea 1|Observatorio|78425|\n",
            "|Linea 1|  San Lázaro|26184|\n",
            "|Linea 1|  San Lázaro|28196|\n",
            "|Linea 1|  San Lázaro|24156|\n",
            "|Linea 1| Chapultepec|70333|\n",
            "|Linea 1|Observatorio|84285|\n",
            "|Linea 1|  San Lázaro|24735|\n",
            "|Linea 1| Chapultepec|66817|\n",
            "|Linea 1| Chapultepec|39736|\n",
            "|Linea 1|  San Lázaro|29059|\n",
            "|Linea 1|  San Lázaro|21236|\n",
            "|Linea 1| Chapultepec|52554|\n",
            "|Linea 1| Chapultepec|55278|\n",
            "|Linea 1|Observatorio|77416|\n",
            "|Linea 1|  San Lázaro|27870|\n",
            "|Linea 1|  San Lázaro|26723|\n",
            "|Linea 1| Chapultepec|55444|\n",
            "|Linea 1| Chapultepec|53249|\n",
            "|Linea 1| Chapultepec|57488|\n",
            "|Linea 1|Observatorio|83773|\n",
            "|Linea 1| Chapultepec|63395|\n",
            "|Linea 1|  San Lázaro|34224|\n",
            "|Linea 1|Observatorio|65211|\n",
            "|Linea 1|Observatorio|72874|\n",
            "|Linea 1|  San Lázaro|26510|\n",
            "|Linea 1| Chapultepec|61789|\n",
            "|Linea 1|Observatorio|67435|\n",
            "|Linea 1|  San Lázaro|26526|\n",
            "+-------+------------+-----+\n",
            "only showing top 50 rows\n",
            "\n"
          ]
        }
      ]
    },
    {
      "cell_type": "markdown",
      "source": [
        "#Grouping"
      ],
      "metadata": {
        "id": "L8GB46tX7Cng"
      }
    },
    {
      "cell_type": "code",
      "source": [
        "spark_df.groupBy(\"_c4\").count() \\\n",
        "  .show(30)"
      ],
      "metadata": {
        "colab": {
          "base_uri": "https://localhost:8080/"
        },
        "id": "8zmgtxoN6eOd",
        "outputId": "012a8030-cf15-427f-99fc-ef8a0a62e379"
      },
      "execution_count": null,
      "outputs": [
        {
          "output_type": "stream",
          "name": "stdout",
          "text": [
            "+--------------------+-----+\n",
            "|                 _c4|count|\n",
            "+--------------------+-----+\n",
            "|           Panteones| 4779|\n",
            "| Deptvo. 18 de Marzo| 9558|\n",
            "|    Bosque de Aragón| 4171|\n",
            "|      Aquiles Serdán| 4171|\n",
            "|         Universidad| 4779|\n",
            "|              Tepito| 4779|\n",
            "|           Atlalilco| 9558|\n",
            "|           Iztacalco| 4779|\n",
            "|  Inst. del Petróleo| 8342|\n",
            "|       Ciudad Azteca| 4779|\n",
            "|           Velódromo| 4171|\n",
            "|         San Joaqu�n|   31|\n",
            "| Autobuses del Norte| 4779|\n",
            "|              Aragón| 4171|\n",
            "|       Plaza AragÃ³n|  608|\n",
            "|         Pino Suárez| 8342|\n",
            "|           Garibaldi| 9558|\n",
            "|           Bondojito| 4779|\n",
            "|         Insurgentes| 4779|\n",
            "|          Candelaria| 9558|\n",
            "|     Villa de Cortés| 4171|\n",
            "|          Tlatelolco| 4779|\n",
            "|    San Juan LetrÃ¡n|  608|\n",
            "|         San Antonio| 4779|\n",
            "|              Olivos| 4779|\n",
            "|Ricardo Flores Magón| 4171|\n",
            "|             Eugenia| 4779|\n",
            "|          Zapotitlán| 4171|\n",
            "|   Bosque de AragÃ³n|  608|\n",
            "|        Romero Rubio| 4779|\n",
            "+--------------------+-----+\n",
            "only showing top 30 rows\n",
            "\n"
          ]
        }
      ]
    }
  ]
}