{
  "nbformat": 4,
  "nbformat_minor": 0,
  "metadata": {
    "colab": {
      "provenance": [],
      "include_colab_link": true
    },
    "kernelspec": {
      "name": "python3",
      "display_name": "Python 3"
    },
    "language_info": {
      "name": "python"
    }
  },
  "cells": [
    {
      "cell_type": "markdown",
      "metadata": {
        "id": "view-in-github",
        "colab_type": "text"
      },
      "source": [
        "<a href=\"https://colab.research.google.com/github/luisosmx/spark/blob/main/inegi_influx_pyspark.ipynb\" target=\"_parent\"><img src=\"https://colab.research.google.com/assets/colab-badge.svg\" alt=\"Open In Colab\"/></a>"
      ]
    },
    {
      "cell_type": "markdown",
      "metadata": {
        "id": "PaTIOCkCHrnI"
      },
      "source": [
        "# Setup"
      ]
    },
    {
      "cell_type": "code",
      "metadata": {
        "id": "JY2UBUP1HqwK",
        "colab": {
          "base_uri": "https://localhost:8080/"
        },
        "outputId": "b24abe4e-9a31-4a84-9af7-3363d3d78c67"
      },
      "source": [
        "!apt-get install openjdk-8-jdk-headless -qq > /dev/null\n",
        "!wget -q http://archive.apache.org/dist/spark/spark-3.1.2/spark-3.1.2-bin-hadoop3.2.tgz\n",
        "!tar -xzf spark-3.1.2-bin-hadoop3.2.tgz\n",
        "!mv spark-3.1.2-bin-hadoop3.2.tgz /opt/spark-3.1.2\n",
        "!pip install -q findspark\n",
        "!pip install pyspark==3.1.2 \n",
        "!ln -s /opt/spark-3.1.2 /opt/spark\n",
        "!export SPARK_HOME=/opt/spark\n",
        "!export PATH=$SPARK_HOME/bin:$PATH"
      ],
      "execution_count": 1,
      "outputs": [
        {
          "output_type": "stream",
          "name": "stdout",
          "text": [
            "Looking in indexes: https://pypi.org/simple, https://us-python.pkg.dev/colab-wheels/public/simple/\n",
            "Requirement already satisfied: pyspark==3.1.2 in /usr/local/lib/python3.8/dist-packages (3.1.2)\n",
            "Requirement already satisfied: py4j==0.10.9 in /usr/local/lib/python3.8/dist-packages (from pyspark==3.1.2) (0.10.9)\n",
            "ln: failed to create symbolic link '/opt/spark': File exists\n"
          ]
        }
      ]
    },
    {
      "cell_type": "code",
      "source": [
        "!pip install pyspark==3.1.2 "
      ],
      "metadata": {
        "id": "O1G5AE0JVE14",
        "colab": {
          "base_uri": "https://localhost:8080/"
        },
        "outputId": "394a2d23-8fa1-48e2-b99f-878636bf6e10"
      },
      "execution_count": 2,
      "outputs": [
        {
          "output_type": "stream",
          "name": "stdout",
          "text": [
            "Looking in indexes: https://pypi.org/simple, https://us-python.pkg.dev/colab-wheels/public/simple/\n",
            "Requirement already satisfied: pyspark==3.1.2 in /usr/local/lib/python3.8/dist-packages (3.1.2)\n",
            "Requirement already satisfied: py4j==0.10.9 in /usr/local/lib/python3.8/dist-packages (from pyspark==3.1.2) (0.10.9)\n"
          ]
        }
      ]
    },
    {
      "cell_type": "code",
      "source": [
        "pip freeze"
      ],
      "metadata": {
        "id": "WoWcUVo-VTww"
      },
      "execution_count": null,
      "outputs": []
    },
    {
      "cell_type": "code",
      "metadata": {
        "id": "BWFsts1yI2vx",
        "colab": {
          "base_uri": "https://localhost:8080/"
        },
        "outputId": "f6861b33-8715-46f1-b787-eebe9d645e7b"
      },
      "source": [
        "import os\n",
        "import findspark\n",
        "\n",
        "import pyspark\n",
        "from pyspark import SparkContext, SparkConf\n",
        "from pyspark.sql import Row\n",
        "from pyspark.sql import SQLContext\n",
        "from pyspark.sql import SparkSession\n",
        "\n",
        "os.environ['JAVA_HOME'] = '/usr/lib/jvm/java-8-openjdk-amd64'\n",
        "os.environ['SPARK_HOME'] = '/content/spark-3.1.2-bin-hadoop3.2'\n",
        "#os.environ['PYSPARK_SUBMIT_ARGS'] = '--packages com.amazonaws:aws-java-sdk:1.10.34,org.apache.hadoop:hadoop-aws:2.6.0 pyspark-shell'\n",
        "os.environ['PYSPARK_SUBMIT_ARGS'] = '--packages com.amazonaws:aws-java-sdk:1.10.34,org.apache.hadoop:hadoop-aws:2.7.2 pyspark-shell'\n",
        "\n",
        "findspark.init()\n",
        "\n",
        "sc = pyspark.SparkContext(\"local[*]\")\n",
        "spark = SparkSession(sc)\n",
        "\n",
        "print('Modules imported and Spark loaded')"
      ],
      "execution_count": 3,
      "outputs": [
        {
          "output_type": "stream",
          "name": "stdout",
          "text": [
            "Modules imported and Spark loaded\n"
          ]
        }
      ]
    },
    {
      "cell_type": "markdown",
      "metadata": {
        "id": "MfD90BHevlbG"
      },
      "source": [
        "# Loading data into PySpark"
      ]
    },
    {
      "cell_type": "markdown",
      "metadata": {
        "id": "9e1baC18ybZ4"
      },
      "source": [
        "Getting data from Github repo without clonning the project, just using [raw.githubusercontent.com](https://stackoverflow.com/questions/39065921/what-do-raw-githubusercontent-com-urls-represent)"
      ]
    },
    {
      "cell_type": "code",
      "metadata": {
        "id": "Tv0MNyJHJV02",
        "colab": {
          "base_uri": "https://localhost:8080/"
        },
        "outputId": "f6d81e3a-09cd-48ca-c366-a2a2548d5a35"
      },
      "source": [
        "!wget --continue /content/afluenciastc_simple_01_2023.csv"
      ],
      "execution_count": 4,
      "outputs": [
        {
          "output_type": "stream",
          "name": "stdout",
          "text": [
            "/content/afluenciastc_simple_01_2023.csv: Scheme missing.\n"
          ]
        }
      ]
    },
    {
      "cell_type": "markdown",
      "metadata": {
        "id": "wajfiPtGyuyu"
      },
      "source": [
        "Reading the file with a Spark dataframe"
      ]
    },
    {
      "cell_type": "code",
      "metadata": {
        "id": "0eYhKMt9xQjV",
        "outputId": "d4de8ae3-c548-44be-cfca-abecc132ad65",
        "colab": {
          "base_uri": "https://localhost:8080/"
        }
      },
      "source": [
        "spark_df = spark.read.csv('/content/afluenciastc_simple_01_2023.csv')\n",
        "spark_df.show(10)\n",
        "\n"
      ],
      "execution_count": 5,
      "outputs": [
        {
          "output_type": "stream",
          "name": "stdout",
          "text": [
            "+----------+----+-----+-------+-------------------+---------+\n",
            "|       _c0| _c1|  _c2|    _c3|                _c4|      _c5|\n",
            "+----------+----+-----+-------+-------------------+---------+\n",
            "|     fecha|anio|  mes|  linea|           estacion|afluencia|\n",
            "|2010-01-01|2010|Enero|Linea 1|           Zaragoza|    20227|\n",
            "|2010-01-01|2010|Enero|Linea 1| Isabel la Católica|     6487|\n",
            "|2010-01-01|2010|Enero|Linea 1|          Moctezuma|    10304|\n",
            "|2010-01-01|2010|Enero|Linea 1|        Pino Suárez|     8679|\n",
            "|2010-01-01|2010|Enero|Linea 1|       Gómez Farías|    19499|\n",
            "|2010-01-01|2010|Enero|Linea 6|Deptvo. 18 de Marzo|      621|\n",
            "|2010-01-01|2010|Enero|Linea 6|  La Villa-Basilica|    24792|\n",
            "|2010-01-01|2010|Enero|Linea 9|          Pantitlán|    27000|\n",
            "|2010-01-01|2010|Enero|Linea 8|             Aculco|     3652|\n",
            "+----------+----+-----+-------+-------------------+---------+\n",
            "only showing top 10 rows\n",
            "\n"
          ]
        }
      ]
    },
    {
      "cell_type": "code",
      "source": [
        "df = spark.read.option(\"header\",True).csv('/content/afluenciastc_simple_01_2023.csv')\n",
        "df.show(20)"
      ],
      "metadata": {
        "colab": {
          "base_uri": "https://localhost:8080/"
        },
        "id": "fHRYvFH1TR3O",
        "outputId": "0f98c541-1806-4bf5-d8ce-2296e9493933"
      },
      "execution_count": 6,
      "outputs": [
        {
          "output_type": "stream",
          "name": "stdout",
          "text": [
            "+----------+----+-----+-------+-------------------+---------+\n",
            "|     fecha|anio|  mes|  linea|           estacion|afluencia|\n",
            "+----------+----+-----+-------+-------------------+---------+\n",
            "|2010-01-01|2010|Enero|Linea 1|           Zaragoza|    20227|\n",
            "|2010-01-01|2010|Enero|Linea 1| Isabel la Católica|     6487|\n",
            "|2010-01-01|2010|Enero|Linea 1|          Moctezuma|    10304|\n",
            "|2010-01-01|2010|Enero|Linea 1|        Pino Suárez|     8679|\n",
            "|2010-01-01|2010|Enero|Linea 1|       Gómez Farías|    19499|\n",
            "|2010-01-01|2010|Enero|Linea 6|Deptvo. 18 de Marzo|      621|\n",
            "|2010-01-01|2010|Enero|Linea 6|  La Villa-Basilica|    24792|\n",
            "|2010-01-01|2010|Enero|Linea 9|          Pantitlán|    27000|\n",
            "|2010-01-01|2010|Enero|Linea 8|             Aculco|     3652|\n",
            "|2010-01-01|2010|Enero|Linea 9|          Velódromo|     3239|\n",
            "|2010-01-01|2010|Enero|Linea 5|Autobuses del Norte|    16824|\n",
            "|2010-01-01|2010|Enero|Linea 5|          Misterios|     3513|\n",
            "|2010-01-01|2010|Enero|Linea 7|     Constituyentes|     1417|\n",
            "|2010-01-01|2010|Enero|Linea 7|          Refinería|     2325|\n",
            "|2010-01-01|2010|Enero|Linea 3|            Etiopía|     7078|\n",
            "|2010-01-01|2010|Enero|Linea 7|            Polanco|     6173|\n",
            "|2010-01-01|2010|Enero|Linea 4|    Canal del Norte|     2317|\n",
            "|2010-01-01|2010|Enero|Linea 4|          Bondojito|     2474|\n",
            "|2010-01-01|2010|Enero|Linea 4|        Santa Anita|     1042|\n",
            "|2010-01-01|2010|Enero|Linea 2|            Popotla|     2419|\n",
            "+----------+----+-----+-------+-------------------+---------+\n",
            "only showing top 20 rows\n",
            "\n"
          ]
        }
      ]
    },
    {
      "cell_type": "code",
      "source": [
        "spark.read.option(\"header\",True) \\\n",
        "          .csv(\"/content/afluenciastc_simple_01_2023.csv\") \\\n",
        "          .createOrReplaceTempView(\"influx_file\")"
      ],
      "metadata": {
        "id": "Sja5rkAiEzPr"
      },
      "execution_count": 7,
      "outputs": []
    },
    {
      "cell_type": "code",
      "source": [
        "spark.sql(\"SELECT * FROM influx_file\").show(10)"
      ],
      "metadata": {
        "colab": {
          "base_uri": "https://localhost:8080/"
        },
        "id": "v_WAPJqOFwvk",
        "outputId": "fc084bed-9208-46d6-eeec-4e259f3fc13e"
      },
      "execution_count": 8,
      "outputs": [
        {
          "output_type": "stream",
          "name": "stdout",
          "text": [
            "+----------+----+-----+-------+-------------------+---------+\n",
            "|     fecha|anio|  mes|  linea|           estacion|afluencia|\n",
            "+----------+----+-----+-------+-------------------+---------+\n",
            "|2010-01-01|2010|Enero|Linea 1|           Zaragoza|    20227|\n",
            "|2010-01-01|2010|Enero|Linea 1| Isabel la Católica|     6487|\n",
            "|2010-01-01|2010|Enero|Linea 1|          Moctezuma|    10304|\n",
            "|2010-01-01|2010|Enero|Linea 1|        Pino Suárez|     8679|\n",
            "|2010-01-01|2010|Enero|Linea 1|       Gómez Farías|    19499|\n",
            "|2010-01-01|2010|Enero|Linea 6|Deptvo. 18 de Marzo|      621|\n",
            "|2010-01-01|2010|Enero|Linea 6|  La Villa-Basilica|    24792|\n",
            "|2010-01-01|2010|Enero|Linea 9|          Pantitlán|    27000|\n",
            "|2010-01-01|2010|Enero|Linea 8|             Aculco|     3652|\n",
            "|2010-01-01|2010|Enero|Linea 9|          Velódromo|     3239|\n",
            "+----------+----+-----+-------+-------------------+---------+\n",
            "only showing top 10 rows\n",
            "\n"
          ]
        }
      ]
    },
    {
      "cell_type": "code",
      "source": [
        "df_colum = spark.sql(\"\"\"\n",
        "  SELECT \n",
        "    fecha AS date\n",
        "    , anio AS year\n",
        "    , mes AS month\n",
        "    , linea AS line\n",
        "    , estacion AS station\n",
        "    , afluencia AS influx\n",
        "  FROM influx_file\n",
        "\"\"\")"
      ],
      "metadata": {
        "id": "PRSgwh92GPfv"
      },
      "execution_count": 46,
      "outputs": []
    },
    {
      "cell_type": "markdown",
      "source": [
        "aqui se define el df como df_colum"
      ],
      "metadata": {
        "id": "dlzOE4P5fTZ7"
      }
    },
    {
      "cell_type": "code",
      "source": [
        "df_colum.show(10)"
      ],
      "metadata": {
        "colab": {
          "base_uri": "https://localhost:8080/"
        },
        "id": "gxXKgfzCd3rp",
        "outputId": "d1f2e2ad-5bdd-464f-f068-a9f5bdceef26"
      },
      "execution_count": 47,
      "outputs": [
        {
          "output_type": "stream",
          "name": "stdout",
          "text": [
            "+----------+----+-----+-------+-------------------+------+\n",
            "|      date|year|month|   line|            station|influx|\n",
            "+----------+----+-----+-------+-------------------+------+\n",
            "|2010-01-01|2010|Enero|Linea 1|           Zaragoza| 20227|\n",
            "|2010-01-01|2010|Enero|Linea 1| Isabel la Católica|  6487|\n",
            "|2010-01-01|2010|Enero|Linea 1|          Moctezuma| 10304|\n",
            "|2010-01-01|2010|Enero|Linea 1|        Pino Suárez|  8679|\n",
            "|2010-01-01|2010|Enero|Linea 1|       Gómez Farías| 19499|\n",
            "|2010-01-01|2010|Enero|Linea 6|Deptvo. 18 de Marzo|   621|\n",
            "|2010-01-01|2010|Enero|Linea 6|  La Villa-Basilica| 24792|\n",
            "|2010-01-01|2010|Enero|Linea 9|          Pantitlán| 27000|\n",
            "|2010-01-01|2010|Enero|Linea 8|             Aculco|  3652|\n",
            "|2010-01-01|2010|Enero|Linea 9|          Velódromo|  3239|\n",
            "+----------+----+-----+-------+-------------------+------+\n",
            "only showing top 10 rows\n",
            "\n"
          ]
        }
      ]
    },
    {
      "cell_type": "code",
      "source": [],
      "metadata": {
        "id": "pOllXGzOezby"
      },
      "execution_count": null,
      "outputs": []
    },
    {
      "cell_type": "markdown",
      "source": [
        "#Replace months by numbers"
      ],
      "metadata": {
        "id": "xZLDJH7B5j5R"
      }
    },
    {
      "cell_type": "markdown",
      "source": [
        "Aqui no estoy creando un df, aqui estoy generando una vista de un df"
      ],
      "metadata": {
        "id": "WwyLqL5_fJbk"
      }
    },
    {
      "cell_type": "code",
      "source": [
        "df_colum.createOrReplaceTempView(\"df_months\")"
      ],
      "metadata": {
        "id": "t4xJjv_gRut5"
      },
      "execution_count": 48,
      "outputs": []
    },
    {
      "cell_type": "code",
      "source": [
        "df_months_filter = spark.sql(\"\"\"\n",
        "  SELECT\n",
        "      CASE \n",
        "        WHEN month = 'Enero' THEN '01'\n",
        "        WHEN month = 'Febrero' THEN '02'\n",
        "        WHEN month = 'Marzo' THEN '03'\n",
        "        WHEN month = 'Abril' THEN '04'\n",
        "        WHEN month = 'Mayo' THEN '05'\n",
        "        WHEN month = 'Junio' THEN '06'\n",
        "        WHEN month = 'Julio' THEN '07'\n",
        "        WHEN month = 'Agosto' THEN '08'\n",
        "        WHEN month = 'Septiembre' THEN '09'\n",
        "        WHEN month = 'Octubre' THEN '10'\n",
        "        WHEN month = 'Noviembre' THEN '11'\n",
        "        WHEN month = 'Diciembre' THEN '12'\n",
        "        ELSE month\n",
        "      END AS Month\n",
        "  FROM df_months\n",
        "\"\"\")"
      ],
      "metadata": {
        "id": "Hy_TMb6RZ5AL"
      },
      "execution_count": 49,
      "outputs": []
    },
    {
      "cell_type": "code",
      "source": [
        "df_months_filter.show(10)"
      ],
      "metadata": {
        "colab": {
          "base_uri": "https://localhost:8080/"
        },
        "id": "J6XS5a_NVZvi",
        "outputId": "86ccf7a3-d19f-49b5-ce62-c10a4f60884e"
      },
      "execution_count": 50,
      "outputs": [
        {
          "output_type": "stream",
          "name": "stdout",
          "text": [
            "+-----+\n",
            "|Month|\n",
            "+-----+\n",
            "|   01|\n",
            "|   01|\n",
            "|   01|\n",
            "|   01|\n",
            "|   01|\n",
            "|   01|\n",
            "|   01|\n",
            "|   01|\n",
            "|   01|\n",
            "|   01|\n",
            "+-----+\n",
            "only showing top 10 rows\n",
            "\n"
          ]
        }
      ]
    },
    {
      "cell_type": "markdown",
      "source": [
        "#Replace line by numbers"
      ],
      "metadata": {
        "id": "KALCF1aG_bBV"
      }
    },
    {
      "cell_type": "code",
      "source": [
        "df_colum.createOrReplaceTempView(\"df_lines\")"
      ],
      "metadata": {
        "id": "0fUVN5RoWNuE"
      },
      "execution_count": 53,
      "outputs": []
    },
    {
      "cell_type": "code",
      "source": [
        "df_line_filter = spark.sql(\"\"\"\n",
        "  SELECT \n",
        "      CASE \n",
        "        WHEN line = 'Linea 1' THEN '1'\n",
        "        WHEN line = 'Linea 2' THEN '2'\n",
        "        WHEN line = 'Linea 3' THEN '3'\n",
        "        WHEN line = 'Linea 4' THEN '4'\n",
        "        WHEN line = 'Linea 5' THEN '5'\n",
        "        WHEN line = 'Linea 6' THEN '6'\n",
        "        WHEN line = 'Linea 7' THEN '7'\n",
        "        WHEN line = 'Linea 8' THEN '8'\n",
        "        WHEN line = 'Linea 9' THEN '9'\n",
        "        WHEN line = 'Linea A' THEN 'A'\n",
        "        WHEN line = 'Linea B' THEN 'B'\n",
        "        WHEN line = 'Linea 12' THEN '12'\n",
        "        ELSE line\n",
        "      END AS Line\n",
        "  FROM df_lines\n",
        "\"\"\")"
      ],
      "metadata": {
        "id": "KSfWsCqbWSXZ"
      },
      "execution_count": 54,
      "outputs": []
    },
    {
      "cell_type": "code",
      "source": [
        "df_line_filter.show(10)"
      ],
      "metadata": {
        "colab": {
          "base_uri": "https://localhost:8080/"
        },
        "id": "C6Qr6KqiXmAy",
        "outputId": "e5974aa8-b3b3-45b0-bf40-0cf00d2ce787"
      },
      "execution_count": 55,
      "outputs": [
        {
          "output_type": "stream",
          "name": "stdout",
          "text": [
            "+----+\n",
            "|Line|\n",
            "+----+\n",
            "|   1|\n",
            "|   1|\n",
            "|   1|\n",
            "|   1|\n",
            "|   1|\n",
            "|   6|\n",
            "|   6|\n",
            "|   9|\n",
            "|   8|\n",
            "|   9|\n",
            "+----+\n",
            "only showing top 10 rows\n",
            "\n"
          ]
        }
      ]
    },
    {
      "cell_type": "markdown",
      "source": [
        "#Sorting"
      ],
      "metadata": {
        "id": "79dhsQCF5mv4"
      }
    },
    {
      "cell_type": "code",
      "source": [
        "df_colum.createOrReplaceTempView(\"df_station_accents\")"
      ],
      "metadata": {
        "id": "8bdimFKNGO0b"
      },
      "execution_count": 59,
      "outputs": []
    },
    {
      "cell_type": "code",
      "source": [
        "df_station_filter = spark.sql(\"\"\"\n",
        "  SELECT \n",
        "    CASE \n",
        "      WHEN station LIKE '%á%' THEN REPLACE(station, 'á', 'a')\n",
        "      WHEN station LIKE '%é%' THEN REPLACE(station, 'é', 'e')\n",
        "      WHEN station LIKE '%í%' THEN REPLACE(station, 'í', 'i')\n",
        "      WHEN station LIKE '%ó%' THEN REPLACE(station, 'ó', 'o')\n",
        "      WHEN station LIKE '%ú%' THEN REPLACE(station, 'ú', 'u')\n",
        "      WHEN station LIKE '%Á%' THEN REPLACE(station, 'Á', 'A')\n",
        "      WHEN station LIKE '%É%' THEN REPLACE(station, 'É', 'E')\n",
        "      WHEN station LIKE '%Í%' THEN REPLACE(station, 'Í', 'I')\n",
        "      WHEN station LIKE '%Ó%' THEN REPLACE(station, 'Ó', 'O')\n",
        "      WHEN station LIKE '%Ú%' THEN REPLACE(station, 'Ú', 'U')\n",
        "      ELSE station\n",
        "    END AS Station\n",
        "  FROM df_station_accents\n",
        "\"\"\")"
      ],
      "metadata": {
        "id": "xqmyebTTj_kB"
      },
      "execution_count": 60,
      "outputs": []
    },
    {
      "cell_type": "code",
      "source": [
        "df_station_filter.show(20)"
      ],
      "metadata": {
        "colab": {
          "base_uri": "https://localhost:8080/"
        },
        "id": "G0m9yfxjlI1Y",
        "outputId": "e51b607d-fc79-4613-a8e2-e4a59790cfa0"
      },
      "execution_count": 62,
      "outputs": [
        {
          "output_type": "stream",
          "name": "stdout",
          "text": [
            "+-------------------+\n",
            "|            Station|\n",
            "+-------------------+\n",
            "|           Zaragoza|\n",
            "| Isabel la Catolica|\n",
            "|          Moctezuma|\n",
            "|        Pino Suarez|\n",
            "|       Gómez Farias|\n",
            "|Deptvo. 18 de Marzo|\n",
            "|  La Villa-Basilica|\n",
            "|          Pantitlan|\n",
            "|             Aculco|\n",
            "|          Velodromo|\n",
            "|Autobuses del Norte|\n",
            "|          Misterios|\n",
            "|     Constituyentes|\n",
            "|          Refineria|\n",
            "|            Etiopia|\n",
            "|            Polanco|\n",
            "|    Canal del Norte|\n",
            "|          Bondojito|\n",
            "|        Santa Anita|\n",
            "|            Popotla|\n",
            "+-------------------+\n",
            "only showing top 20 rows\n",
            "\n"
          ]
        }
      ]
    }
  ]
}